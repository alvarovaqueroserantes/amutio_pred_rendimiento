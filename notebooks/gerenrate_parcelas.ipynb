{
 "cells": [
  {
   "cell_type": "code",
   "execution_count": 2,
   "id": "81938cdb",
   "metadata": {},
   "outputs": [
    {
     "name": "stdout",
     "output_type": "stream",
     "text": [
      "Archivo parcel_coords.py generado correctamente.\n"
     ]
    }
   ],
   "source": [
    "import json\n",
    "\n",
    "# Cargar el geojson\n",
    "with open(r\"C:\\Users\\alvar\\Downloads\\Cultivo_Declarado.geojson\", \"r\", encoding=\"utf-8\") as f:\n",
    "    geojson_data = json.load(f)\n",
    "\n",
    "features = geojson_data['features']\n",
    "\n",
    "parcel_coords = {}\n",
    "count = 0\n",
    "for feature in features:\n",
    "    geom = feature['geometry']\n",
    "    geom_type = geom['type']\n",
    "    coords = geom['coordinates']\n",
    "\n",
    "    if geom_type == \"Polygon\":\n",
    "        coords_list = coords[0]\n",
    "        parcel = [(lat, lon) for lon, lat in coords_list]\n",
    "        count += 1\n",
    "        parcel_coords[f\"Parcel_p{count}\"] = parcel\n",
    "    elif geom_type == \"MultiPolygon\":\n",
    "        for poly in coords:\n",
    "            coords_list = poly[0]\n",
    "            parcel = [(lat, lon) for lon, lat in coords_list]\n",
    "            count += 1\n",
    "            parcel_coords[f\"Parcel_p{count}\"] = parcel\n",
    "    if count >= 30:\n",
    "        break\n",
    "\n",
    "# Escribirlo en formato .py estilo diccionario\n",
    "with open(\"parcel_coords.py\", \"w\", encoding=\"utf-8\") as f:\n",
    "    f.write(\"parcel_coords = {\\n\")\n",
    "    for key, verts in parcel_coords.items():\n",
    "        f.write(f'    \"{key}\": [\\n')\n",
    "        for v in verts:\n",
    "            f.write(f\"        ({v[0]}, {v[1]}),\\n\")\n",
    "        f.write(\"    ],\\n\")\n",
    "    f.write(\"}\\n\")\n",
    "\n",
    "print(\"Archivo parcel_coords.py generado correctamente.\")\n"
   ]
  },
  {
   "cell_type": "code",
   "execution_count": null,
   "id": "f84a323e",
   "metadata": {},
   "outputs": [],
   "source": []
  }
 ],
 "metadata": {
  "kernelspec": {
   "display_name": "Python 3",
   "language": "python",
   "name": "python3"
  },
  "language_info": {
   "codemirror_mode": {
    "name": "ipython",
    "version": 3
   },
   "file_extension": ".py",
   "mimetype": "text/x-python",
   "name": "python",
   "nbconvert_exporter": "python",
   "pygments_lexer": "ipython3",
   "version": "3.12.9"
  }
 },
 "nbformat": 4,
 "nbformat_minor": 5
}
